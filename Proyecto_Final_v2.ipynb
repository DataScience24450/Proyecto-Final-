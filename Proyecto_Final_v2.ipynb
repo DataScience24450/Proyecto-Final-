{
  "cells": [
    {
      "cell_type": "markdown",
      "metadata": {
        "id": "-P58FmSs--NL"
      },
      "source": [
        "# ***Proyecto final***\n",
        "\n",
        "*Encuesta satisfaccion de clientes de una aerolinea*\n",
        "\n",
        "---\n",
        "\n"
      ]
    },
    {
      "cell_type": "code",
      "execution_count": null,
      "metadata": {
        "id": "R5JVBGPy-_KB"
      },
      "outputs": [],
      "source": [
        "# Importacion de las librerias\n",
        "import pandas as pd\n",
        "import numpy as np\n",
        "from matplotlib import pyplot as plt\n",
        "import seaborn as sns"
      ]
    },
    {
      "cell_type": "code",
      "execution_count": null,
      "metadata": {
        "id": "MQP6dFzu5Rq9"
      },
      "outputs": [],
      "source": [
        "# Lectura del archivo\n",
        "df = pd.read_csv(\"/content/Encuesta satisfaccion aerolinea.csv\", sep=';')\n",
        "\n",
        "# Visualizacion de las 3 primeras filas del archivo\n",
        "df.head(3)"
      ]
    },
    {
      "cell_type": "code",
      "source": [
        "#Eljo una paleta de colores predeterminada\n",
        "color = 'Spectral_r' # set palette color (from PALETTE_COLOR)\n",
        "sns.set_palette(color) # set palette"
      ],
      "metadata": {
        "id": "6kwRv8cFvhj-"
      },
      "execution_count": null,
      "outputs": []
    },
    {
      "cell_type": "markdown",
      "metadata": {
        "id": "IQCBiyBv7i4F"
      },
      "source": [
        "# ***Data Wrangling***\n",
        "*Información de la base de datos*\n",
        "\n",
        "---"
      ]
    },
    {
      "cell_type": "code",
      "execution_count": null,
      "metadata": {
        "id": "Iycsc4wZ5TuF"
      },
      "outputs": [],
      "source": [
        "# Tamaño del archivo\n",
        "print('El archivo tiene ' + str(df.shape[0]) + ' filas y ' + str(df.shape[1]) + ' columnas')"
      ]
    },
    {
      "cell_type": "code",
      "execution_count": null,
      "metadata": {
        "id": "8RK1ObZ15XK5"
      },
      "outputs": [],
      "source": [
        "# Identificacion de tipos de variables y el recuento de no nulos \n",
        "df.info()"
      ]
    },
    {
      "cell_type": "code",
      "execution_count": null,
      "metadata": {
        "id": "EkhHh06v8ikY"
      },
      "outputs": [],
      "source": [
        "# Visualizacion de las columnas\n",
        "df.columns"
      ]
    },
    {
      "cell_type": "code",
      "execution_count": null,
      "metadata": {
        "id": "yinfi_Q_89NQ"
      },
      "outputs": [],
      "source": [
        "# Eliminacion de los campos indispensables y renombre de la columna Leg room service\n",
        "df2 = df.drop(['Unnamed: 0', 'Departure Delay in Minutes', 'Arrival Delay in Minutes', 'Departure/Arrival time convenient'], axis=1)\n",
        "df2 = df2.set_index('id', drop=True, append=False, inplace=False) #Pongo el id como indice\n",
        "df2.rename(columns={'Leg room service':'Seat space'}, inplace=True) #Cambio los nombres de las columnas\n",
        "df2.head(3)"
      ]
    },
    {
      "cell_type": "code",
      "execution_count": null,
      "metadata": {
        "id": "oLgiRxp5CKGL"
      },
      "outputs": [],
      "source": [
        "# Visualizacion de las columnas del nuevo data frame\n",
        "print(df2.columns)\n",
        "print('')\n",
        "print('El archivo tiene ' + str(df2.shape[0]) + ' filas y ' + str(df2.shape[1]) + ' columnas')"
      ]
    },
    {
      "cell_type": "code",
      "execution_count": null,
      "metadata": {
        "id": "9IrEaaeP5Ymf"
      },
      "outputs": [],
      "source": [
        "# Agrupacion de campos por tipo de dato\n",
        "col_numerica = ['Age', 'Flight Distance', 'Inflight wifi service', 'Ease of Online booking',\n",
        "'Gate location', 'Food and drink', 'Online boarding', 'Seat comfort','Inflight entertainment', 'On-board service', 'Seat space', \n",
        "'Baggage handling', 'Checkin service', 'Inflight service', 'Cleanliness']\n",
        "\n",
        "col_categorica = ['Gender', 'Customer Type', 'Type of Travel','Class','satisfaction']\n",
        "\n",
        "variables= ['Inflight wifi service', 'Ease of Online booking', 'Gate location','Food and drink', 'Online boarding','Seat comfort','Inflight entertainment',  \n",
        "'On-board service', 'Seat space', 'Baggage handling','Checkin service', 'Inflight service', 'Cleanliness'] # Se asignan todos los campos requeridos a una unica variable"
      ]
    },
    {
      "cell_type": "code",
      "execution_count": null,
      "metadata": {
        "id": "HBIqifMJ5ai3"
      },
      "outputs": [],
      "source": [
        "# Descripcion de las variables numericas\n",
        "df2[col_numerica].describe().T"
      ]
    },
    {
      "cell_type": "code",
      "execution_count": null,
      "metadata": {
        "id": "RE5nTtDbKGTi",
        "colab": {
          "base_uri": "https://localhost:8080/"
        },
        "outputId": "5e09adfc-64e5-4107-9ad0-f3084b5d2c35"
      },
      "outputs": [
        {
          "output_type": "stream",
          "name": "stdout",
          "text": [
            "2    6490\n",
            "3    6317\n",
            "4    4981\n",
            "1    4488\n",
            "5    2887\n",
            "0     813\n",
            "Name: Inflight wifi service, dtype: int64\n",
            "2    6030\n",
            "3    5944\n",
            "4    4873\n",
            "1    4361\n",
            "5    3573\n",
            "0    1195\n",
            "Name: Ease of Online booking, dtype: int64\n",
            "3    7140\n",
            "4    6040\n",
            "2    4837\n",
            "1    4429\n",
            "5    3530\n",
            "Name: Gate location, dtype: int64\n",
            "4    6204\n",
            "5    5644\n",
            "3    5494\n",
            "2    5395\n",
            "1    3214\n",
            "0      25\n",
            "Name: Food and drink, dtype: int64\n",
            "4    7706\n",
            "3    5313\n",
            "5    5307\n",
            "2    4429\n",
            "1    2569\n",
            "0     652\n",
            "Name: Online boarding, dtype: int64\n",
            "4    7991\n",
            "5    6688\n",
            "3    4632\n",
            "2    3632\n",
            "1    3033\n",
            "Name: Seat comfort, dtype: int64\n",
            "4    7368\n",
            "5    6331\n",
            "3    4745\n",
            "2    4331\n",
            "1    3197\n",
            "0       4\n",
            "Name: Inflight entertainment, dtype: int64\n",
            "4    7836\n",
            "5    5844\n",
            "3    5709\n",
            "2    3670\n",
            "1    2915\n",
            "0       2\n",
            "Name: On-board service, dtype: int64\n",
            "4    7097\n",
            "5    6238\n",
            "2    5015\n",
            "3    4958\n",
            "1    2542\n",
            "0     126\n",
            "Name: Seat space, dtype: int64\n",
            "4    9378\n",
            "5    6747\n",
            "3    5219\n",
            "2    2841\n",
            "1    1791\n",
            "Name: Baggage handling, dtype: int64\n",
            "4    7278\n",
            "3    7007\n",
            "5    5264\n",
            "1    3218\n",
            "2    3209\n",
            "Name: Checkin service, dtype: int64\n",
            "4    9378\n",
            "5    6950\n",
            "3    5017\n",
            "2    2851\n",
            "1    1778\n",
            "0       2\n",
            "Name: Inflight service, dtype: int64\n",
            "4    6790\n",
            "3    6065\n",
            "5    5727\n",
            "2    3981\n",
            "1    3411\n",
            "0       2\n",
            "Name: Cleanliness, dtype: int64\n"
          ]
        }
      ],
      "source": [
        "# Visualizacion del recuento de respuestas\n",
        "for x in variables:\n",
        "   frecuencia_valores = df2[x].value_counts()\n",
        "   print(frecuencia_valores)"
      ]
    },
    {
      "cell_type": "code",
      "execution_count": null,
      "metadata": {
        "id": "h0mFks5o5cXf",
        "colab": {
          "base_uri": "https://localhost:8080/",
          "height": 206
        },
        "outputId": "7ce66dbf-0c3d-41fd-e946-aa7a6dccdb30"
      },
      "outputs": [
        {
          "output_type": "execute_result",
          "data": {
            "text/plain": [
              "                count unique                      top   freq\n",
              "Gender          25976      2                   Female  13172\n",
              "Customer Type   25976      2           Loyal Customer  21177\n",
              "Type of Travel  25976      2          Business travel  18038\n",
              "Class           25976      3                 Business  12495\n",
              "satisfaction    25976      2  neutral or dissatisfied  14573"
            ],
            "text/html": [
              "\n",
              "  <div id=\"df-ebf66103-f32c-42f0-a58e-86908550eaf8\">\n",
              "    <div class=\"colab-df-container\">\n",
              "      <div>\n",
              "<style scoped>\n",
              "    .dataframe tbody tr th:only-of-type {\n",
              "        vertical-align: middle;\n",
              "    }\n",
              "\n",
              "    .dataframe tbody tr th {\n",
              "        vertical-align: top;\n",
              "    }\n",
              "\n",
              "    .dataframe thead th {\n",
              "        text-align: right;\n",
              "    }\n",
              "</style>\n",
              "<table border=\"1\" class=\"dataframe\">\n",
              "  <thead>\n",
              "    <tr style=\"text-align: right;\">\n",
              "      <th></th>\n",
              "      <th>count</th>\n",
              "      <th>unique</th>\n",
              "      <th>top</th>\n",
              "      <th>freq</th>\n",
              "    </tr>\n",
              "  </thead>\n",
              "  <tbody>\n",
              "    <tr>\n",
              "      <th>Gender</th>\n",
              "      <td>25976</td>\n",
              "      <td>2</td>\n",
              "      <td>Female</td>\n",
              "      <td>13172</td>\n",
              "    </tr>\n",
              "    <tr>\n",
              "      <th>Customer Type</th>\n",
              "      <td>25976</td>\n",
              "      <td>2</td>\n",
              "      <td>Loyal Customer</td>\n",
              "      <td>21177</td>\n",
              "    </tr>\n",
              "    <tr>\n",
              "      <th>Type of Travel</th>\n",
              "      <td>25976</td>\n",
              "      <td>2</td>\n",
              "      <td>Business travel</td>\n",
              "      <td>18038</td>\n",
              "    </tr>\n",
              "    <tr>\n",
              "      <th>Class</th>\n",
              "      <td>25976</td>\n",
              "      <td>3</td>\n",
              "      <td>Business</td>\n",
              "      <td>12495</td>\n",
              "    </tr>\n",
              "    <tr>\n",
              "      <th>satisfaction</th>\n",
              "      <td>25976</td>\n",
              "      <td>2</td>\n",
              "      <td>neutral or dissatisfied</td>\n",
              "      <td>14573</td>\n",
              "    </tr>\n",
              "  </tbody>\n",
              "</table>\n",
              "</div>\n",
              "      <button class=\"colab-df-convert\" onclick=\"convertToInteractive('df-ebf66103-f32c-42f0-a58e-86908550eaf8')\"\n",
              "              title=\"Convert this dataframe to an interactive table.\"\n",
              "              style=\"display:none;\">\n",
              "        \n",
              "  <svg xmlns=\"http://www.w3.org/2000/svg\" height=\"24px\"viewBox=\"0 0 24 24\"\n",
              "       width=\"24px\">\n",
              "    <path d=\"M0 0h24v24H0V0z\" fill=\"none\"/>\n",
              "    <path d=\"M18.56 5.44l.94 2.06.94-2.06 2.06-.94-2.06-.94-.94-2.06-.94 2.06-2.06.94zm-11 1L8.5 8.5l.94-2.06 2.06-.94-2.06-.94L8.5 2.5l-.94 2.06-2.06.94zm10 10l.94 2.06.94-2.06 2.06-.94-2.06-.94-.94-2.06-.94 2.06-2.06.94z\"/><path d=\"M17.41 7.96l-1.37-1.37c-.4-.4-.92-.59-1.43-.59-.52 0-1.04.2-1.43.59L10.3 9.45l-7.72 7.72c-.78.78-.78 2.05 0 2.83L4 21.41c.39.39.9.59 1.41.59.51 0 1.02-.2 1.41-.59l7.78-7.78 2.81-2.81c.8-.78.8-2.07 0-2.86zM5.41 20L4 18.59l7.72-7.72 1.47 1.35L5.41 20z\"/>\n",
              "  </svg>\n",
              "      </button>\n",
              "      \n",
              "  <style>\n",
              "    .colab-df-container {\n",
              "      display:flex;\n",
              "      flex-wrap:wrap;\n",
              "      gap: 12px;\n",
              "    }\n",
              "\n",
              "    .colab-df-convert {\n",
              "      background-color: #E8F0FE;\n",
              "      border: none;\n",
              "      border-radius: 50%;\n",
              "      cursor: pointer;\n",
              "      display: none;\n",
              "      fill: #1967D2;\n",
              "      height: 32px;\n",
              "      padding: 0 0 0 0;\n",
              "      width: 32px;\n",
              "    }\n",
              "\n",
              "    .colab-df-convert:hover {\n",
              "      background-color: #E2EBFA;\n",
              "      box-shadow: 0px 1px 2px rgba(60, 64, 67, 0.3), 0px 1px 3px 1px rgba(60, 64, 67, 0.15);\n",
              "      fill: #174EA6;\n",
              "    }\n",
              "\n",
              "    [theme=dark] .colab-df-convert {\n",
              "      background-color: #3B4455;\n",
              "      fill: #D2E3FC;\n",
              "    }\n",
              "\n",
              "    [theme=dark] .colab-df-convert:hover {\n",
              "      background-color: #434B5C;\n",
              "      box-shadow: 0px 1px 3px 1px rgba(0, 0, 0, 0.15);\n",
              "      filter: drop-shadow(0px 1px 2px rgba(0, 0, 0, 0.3));\n",
              "      fill: #FFFFFF;\n",
              "    }\n",
              "  </style>\n",
              "\n",
              "      <script>\n",
              "        const buttonEl =\n",
              "          document.querySelector('#df-ebf66103-f32c-42f0-a58e-86908550eaf8 button.colab-df-convert');\n",
              "        buttonEl.style.display =\n",
              "          google.colab.kernel.accessAllowed ? 'block' : 'none';\n",
              "\n",
              "        async function convertToInteractive(key) {\n",
              "          const element = document.querySelector('#df-ebf66103-f32c-42f0-a58e-86908550eaf8');\n",
              "          const dataTable =\n",
              "            await google.colab.kernel.invokeFunction('convertToInteractive',\n",
              "                                                     [key], {});\n",
              "          if (!dataTable) return;\n",
              "\n",
              "          const docLinkHtml = 'Like what you see? Visit the ' +\n",
              "            '<a target=\"_blank\" href=https://colab.research.google.com/notebooks/data_table.ipynb>data table notebook</a>'\n",
              "            + ' to learn more about interactive tables.';\n",
              "          element.innerHTML = '';\n",
              "          dataTable['output_type'] = 'display_data';\n",
              "          await google.colab.output.renderOutput(dataTable, element);\n",
              "          const docLink = document.createElement('div');\n",
              "          docLink.innerHTML = docLinkHtml;\n",
              "          element.appendChild(docLink);\n",
              "        }\n",
              "      </script>\n",
              "    </div>\n",
              "  </div>\n",
              "  "
            ]
          },
          "metadata": {},
          "execution_count": 96
        }
      ],
      "source": [
        "# Descripcion de las variables categoricas\n",
        "df2[col_categorica].describe().T"
      ]
    },
    {
      "cell_type": "code",
      "execution_count": null,
      "metadata": {
        "id": "rsAA88095e9Y",
        "colab": {
          "base_uri": "https://localhost:8080/"
        },
        "outputId": "96239f4a-4fc7-4af5-bb9c-2419e2ee7d6f"
      },
      "outputs": [
        {
          "output_type": "execute_result",
          "data": {
            "text/plain": [
              "Gender                    0\n",
              "Customer Type             0\n",
              "Age                       0\n",
              "Type of Travel            0\n",
              "Class                     0\n",
              "Flight Distance           0\n",
              "Inflight wifi service     0\n",
              "Ease of Online booking    0\n",
              "Gate location             0\n",
              "Food and drink            0\n",
              "Online boarding           0\n",
              "Seat comfort              0\n",
              "Inflight entertainment    0\n",
              "On-board service          0\n",
              "Seat space                0\n",
              "Baggage handling          0\n",
              "Checkin service           0\n",
              "Inflight service          0\n",
              "Cleanliness               0\n",
              "satisfaction              0\n",
              "dtype: int64"
            ]
          },
          "metadata": {},
          "execution_count": 97
        }
      ],
      "source": [
        "# Revision de valores misssings o nulos \n",
        "df2.isnull().sum()"
      ]
    },
    {
      "cell_type": "markdown",
      "source": [
        "# ***Análisis de la base de datos***\n",
        "\n",
        "---"
      ],
      "metadata": {
        "id": "BS1lZ-8iSJx0"
      }
    },
    {
      "cell_type": "markdown",
      "metadata": {
        "id": "6eUMfoN36_HJ"
      },
      "source": [
        "*Analisis univariado*\n",
        "\n",
        "---\n",
        "\n"
      ]
    },
    {
      "cell_type": "code",
      "execution_count": null,
      "metadata": {
        "id": "4XBAfzXp56SX",
        "colab": {
          "base_uri": "https://localhost:8080/",
          "height": 350
        },
        "outputId": "0276a0b1-faa8-4cbf-c9fa-8977a5ff789d"
      },
      "outputs": [
        {
          "output_type": "display_data",
          "data": {
            "text/plain": [
              "<Figure size 720x360 with 1 Axes>"
            ],
            "image/png": "[encoded data removed]"
          },
          "metadata": {
            "needs_background": "light"
          }
        }
      ],
      "source": [
        "# Distribucion de edades\n",
        "datos = df2['Age'] #asignacion de la columna edad a una variable\n",
        "datos_norm = datos.values.flatten() #normalizacion de los datos\n",
        "fig, ax = plt.subplots(figsize=(10,5))\n",
        "ax.hist(datos_norm, bins=12, rwidth=0.95, edgecolor='black', color='yellowgreen') # se grafican los valores \n",
        "ax.set_title('Histograma de edades') #se pone titulo al grafico\n",
        "ax.set_xlabel('Intervalos de edades') #se pone nombre al eje x\n",
        "ax.set_ylabel('Recuento') #se pone nombre al eje x\n",
        "plt.savefig('Customed Plot.pdf', dpi=300, bbox_inches='tight') #Guardamos el grafico"
      ]
    },
    {
      "cell_type": "code",
      "execution_count": null,
      "metadata": {
        "id": "BOLZMU5b58Wd",
        "colab": {
          "base_uri": "https://localhost:8080/",
          "height": 282
        },
        "outputId": "2ab68d46-7e9d-4afa-8770-173fe8639f13"
      },
      "outputs": [
        {
          "output_type": "execute_result",
          "data": {
            "text/plain": [
              "<matplotlib.axes._subplots.AxesSubplot at 0x7f4c5c38a2d0>"
            ]
          },
          "metadata": {},
          "execution_count": 52
        },
        {
          "output_type": "display_data",
          "data": {
            "text/plain": [
              "<Figure size 432x288 with 1 Axes>"
            ],
            "image/png": "[encoded data removed]"
          },
          "metadata": {
            "needs_background": "light"
          }
        }
      ],
      "source": [
        "# Distancia de vuelos\n",
        "df2['Flight Distance'].value_counts().sort_index().plot.area() # Se cuentan los vuelos que tienen misma distancia y se grafica"
      ]
    },
    {
      "cell_type": "code",
      "execution_count": null,
      "metadata": {
        "id": "cMVuCQhD5-bI",
        "colab": {
          "base_uri": "https://localhost:8080/",
          "height": 1000
        },
        "outputId": "3004b0d0-dd8c-4a77-809b-ee88b92511b0"
      },
      "outputs": [
        {
          "output_type": "display_data",
          "data": {
            "text/plain": [
              "<Figure size 432x288 with 1 Axes>"
            ],
            "image/png": "[encoded data removed]"
          },
          "metadata": {
            "needs_background": "light"
          }
        },
        {
          "output_type": "display_data",
          "data": {
            "text/plain": [
              "<Figure size 432x288 with 1 Axes>"
            ],
            "image/png": "[encoded data removed]"
          },
          "metadata": {
            "needs_background": "light"
          }
        },
        {
          "output_type": "display_data",
          "data": {
            "text/plain": [
              "<Figure size 432x288 with 1 Axes>"
            ],
            "image/png": "[encoded data removed]"
          },
          "metadata": {
            "needs_background": "light"
          }
        },
        {
          "output_type": "display_data",
          "data": {
            "text/plain": [
              "<Figure size 432x288 with 1 Axes>"
            ],
            "image/png": "[encoded data removed]"
          },
          "metadata": {
            "needs_background": "light"
          }
        },
        {
          "output_type": "display_data",
          "data": {
            "text/plain": [
              "<Figure size 432x288 with 1 Axes>"
            ],
            "image/png": "[encoded data removed]"
          },
          "metadata": {
            "needs_background": "light"
          }
        },
        {
          "output_type": "display_data",
          "data": {
            "text/plain": [
              "<Figure size 432x288 with 1 Axes>"
            ],
            "image/png": "[encoded data removed]"
          },
          "metadata": {
            "needs_background": "light"
          }
        },
        {
          "output_type": "display_data",
          "data": {
            "text/plain": [
              "<Figure size 432x288 with 1 Axes>"
            ],
            "image/png": "[encoded data removed]"
          },
          "metadata": {
            "needs_background": "light"
          }
        },
        {
          "output_type": "display_data",
          "data": {
            "text/plain": [
              "<Figure size 432x288 with 1 Axes>"
            ],
            "image/png": "[encoded data removed]"
          },
          "metadata": {
            "needs_background": "light"
          }
        },
        {
          "output_type": "display_data",
          "data": {
            "text/plain": [
              "<Figure size 432x288 with 1 Axes>"
            ],
            "image/png": "[encoded data removed]"
          },
          "metadata": {
            "needs_background": "light"
          }
        },
        {
          "output_type": "display_data",
          "data": {
            "text/plain": [
              "<Figure size 432x288 with 1 Axes>"
            ],
            "image/png": "[encoded data removed]"
          },
          "metadata": {
            "needs_background": "light"
          }
        },
        {
          "output_type": "display_data",
          "data": {
            "text/plain": [
              "<Figure size 432x288 with 1 Axes>"
            ],
            "image/png": "[encoded data removed]"
          },
          "metadata": {
            "needs_background": "light"
          }
        },
        {
          "output_type": "display_data",
          "data": {
            "text/plain": [
              "<Figure size 432x288 with 1 Axes>"
            ],
            "image/png": "[encoded data removed]"
          },
          "metadata": {
            "needs_background": "light"
          }
        },
        {
          "output_type": "display_data",
          "data": {
            "text/plain": [
              "<Figure size 432x288 with 1 Axes>"
            ],
            "image/png": "[encoded data removed]"
          },
          "metadata": {
            "needs_background": "light"
          }
        }
      ],
      "source": [
        "# Analisis de todos los parametros de la encuesta\n",
        "for x in variables: # Funcion for para iterar sobre todos los campos\n",
        "  plt.title(df2[x].name) # Asignacion de titulo al grafico\n",
        "  sns.boxplot(x=df2[x], palette='Blues'); # Asignacion de color y variable al grafico box plot\n",
        "  plt.show() # Para mostrar todos los graficos"
      ]
    },
    {
      "cell_type": "code",
      "execution_count": null,
      "metadata": {
        "id": "bsCDFTtE6X9W",
        "colab": {
          "base_uri": "https://localhost:8080/",
          "height": 381
        },
        "outputId": "4133660b-5462-4416-b826-fbbc2f08c2d2"
      },
      "outputs": [
        {
          "output_type": "execute_result",
          "data": {
            "text/plain": [
              "<matplotlib.axes._subplots.AxesSubplot at 0x7f4c5b937050>"
            ]
          },
          "metadata": {},
          "execution_count": 56
        },
        {
          "output_type": "display_data",
          "data": {
            "text/plain": [
              "<Figure size 432x288 with 1 Axes>"
            ],
            "image/png": "[encoded data removed]"
          },
          "metadata": {
            "needs_background": "light"
          }
        }
      ],
      "source": [
        "# Visualizacion de la satisfaccion\n",
        "df2['satisfaction'].value_counts().sort_index().plot(kind ='bar')"
      ]
    },
    {
      "cell_type": "markdown",
      "metadata": {
        "id": "gXTo_B1D6kWa"
      },
      "source": [
        "*Analisis bivariado*\n",
        "\n",
        "---\n",
        "\n"
      ]
    },
    {
      "cell_type": "code",
      "execution_count": null,
      "metadata": {
        "id": "UWSlHOfK65VZ",
        "colab": {
          "base_uri": "https://localhost:8080/",
          "height": 1000
        },
        "outputId": "1f5bb118-0b54-412b-eb63-82f87ada83e1"
      },
      "outputs": [
        {
          "output_type": "stream",
          "name": "stderr",
          "text": [
            "/usr/local/lib/python3.7/dist-packages/seaborn/_decorators.py:43: FutureWarning: Pass the following variables as keyword args: x, y. From version 0.12, the only valid positional argument will be `data`, and passing other arguments without an explicit keyword will result in an error or misinterpretation.\n",
            "  FutureWarning\n"
          ]
        },
        {
          "output_type": "display_data",
          "data": {
            "text/plain": [
              "<Figure size 360x360 with 1 Axes>"
            ],
            "image/png": "[encoded data removed]"
          },
          "metadata": {
            "needs_background": "light"
          }
        },
        {
          "output_type": "stream",
          "name": "stderr",
          "text": [
            "/usr/local/lib/python3.7/dist-packages/seaborn/_decorators.py:43: FutureWarning: Pass the following variables as keyword args: x, y. From version 0.12, the only valid positional argument will be `data`, and passing other arguments without an explicit keyword will result in an error or misinterpretation.\n",
            "  FutureWarning\n"
          ]
        },
        {
          "output_type": "display_data",
          "data": {
            "text/plain": [
              "<Figure size 360x360 with 1 Axes>"
            ],
            "image/png": "[encoded data removed]"
          },
          "metadata": {
            "needs_background": "light"
          }
        },
        {
          "output_type": "stream",
          "name": "stderr",
          "text": [
            "/usr/local/lib/python3.7/dist-packages/seaborn/_decorators.py:43: FutureWarning: Pass the following variables as keyword args: x, y. From version 0.12, the only valid positional argument will be `data`, and passing other arguments without an explicit keyword will result in an error or misinterpretation.\n",
            "  FutureWarning\n"
          ]
        },
        {
          "output_type": "display_data",
          "data": {
            "text/plain": [
              "<Figure size 360x360 with 1 Axes>"
            ],
            "image/png": "[encoded data removed]"
          },
          "metadata": {
            "needs_background": "light"
          }
        },
        {
          "output_type": "stream",
          "name": "stderr",
          "text": [
            "/usr/local/lib/python3.7/dist-packages/seaborn/_decorators.py:43: FutureWarning: Pass the following variables as keyword args: x, y. From version 0.12, the only valid positional argument will be `data`, and passing other arguments without an explicit keyword will result in an error or misinterpretation.\n",
            "  FutureWarning\n"
          ]
        },
        {
          "output_type": "display_data",
          "data": {
            "text/plain": [
              "<Figure size 360x360 with 1 Axes>"
            ],
            "image/png": "[encoded data removed]"
          },
          "metadata": {
            "needs_background": "light"
          }
        },
        {
          "output_type": "stream",
          "name": "stderr",
          "text": [
            "/usr/local/lib/python3.7/dist-packages/seaborn/_decorators.py:43: FutureWarning: Pass the following variables as keyword args: x, y. From version 0.12, the only valid positional argument will be `data`, and passing other arguments without an explicit keyword will result in an error or misinterpretation.\n",
            "  FutureWarning\n"
          ]
        },
        {
          "output_type": "display_data",
          "data": {
            "text/plain": [
              "<Figure size 360x360 with 1 Axes>"
            ],
            "image/png": "[encoded data removed]"
          },
          "metadata": {
            "needs_background": "light"
          }
        }
      ],
      "source": [
        "# Se visualiza la relacion entre la edad y otras variables categoricas\n",
        "col_categorica = ['Gender', 'Customer Type', 'Type of Travel','Class', 'satisfaction'] # Se asignan todos los campos requeridos a una unica variable\n",
        "for x in col_categorica: # Se arma un for para analizar todas los campos de la nueva variable creada\n",
        "   plt.figure(figsize=(5,5)) # Se fija el tamaño de grafico\n",
        "   sns.boxplot(df2[x], df['Age']) # Se grafica un campo de la nueva variable contra el campo Edad\n",
        "   plt.title('Relación entre Age y ' + str(df[x].name), fontsize = 15) # Se agrega el titulo al grafico\n",
        "   plt.show()"
      ]
    },
    {
      "cell_type": "code",
      "execution_count": null,
      "metadata": {
        "id": "sNXYdfno7VqC",
        "colab": {
          "base_uri": "https://localhost:8080/",
          "height": 334
        },
        "outputId": "bb57c872-659a-4a7d-fba1-189ef9318518"
      },
      "outputs": [
        {
          "output_type": "stream",
          "name": "stderr",
          "text": [
            "*c* argument looks like a single numeric RGB or RGBA sequence, which should be avoided as value-mapping will have precedence in case its length matches with *x* & *y*.  Please use the *color* keyword-argument or provide a 2-D array with a single row if you intend to specify the same RGB or RGBA value for all points.\n"
          ]
        },
        {
          "output_type": "execute_result",
          "data": {
            "text/plain": [
              "<matplotlib.axes._subplots.AxesSubplot at 0x7f4c5c0400d0>"
            ]
          },
          "metadata": {},
          "execution_count": 59
        },
        {
          "output_type": "display_data",
          "data": {
            "text/plain": [
              "<Figure size 432x288 with 1 Axes>"
            ],
            "image/png": "[encoded data removed]"
          },
          "metadata": {
            "needs_background": "light"
          }
        }
      ],
      "source": [
        "# Relacion entre edad y longitud del vuelo\n",
        "df2.plot.scatter(x='Age', y='Flight Distance')"
      ]
    },
    {
      "cell_type": "markdown",
      "metadata": {
        "id": "7mbXQzMG74hO"
      },
      "source": [
        "*Analisis multivariado*\n",
        "\n",
        "---\n",
        "\n"
      ]
    },
    {
      "cell_type": "code",
      "execution_count": null,
      "metadata": {
        "id": "PrlLAFE-7-u1"
      },
      "outputs": [],
      "source": [
        "# Visualizacion de la matriz de correlacion, en donde se busca encontrar alguna correlacion entre las variables de la encuesta\n",
        "variables_vuelo= ['Inflight wifi service','Food and drink','Seat comfort','Inflight entertainment', 'Seat space', 'Inflight service', 'Cleanliness'] # Se asignan todos los campos requeridos a una unica variable\n",
        "\n",
        "plt.figure(dpi = 100,figsize= (5,3)) # Se asigna el tamaño de la figura\n",
        "mask = np.triu(np.ones_like(df2[variables_vuelo].corr(),dtype = bool)) # Se seleccionan solo los datos debajo de la diagonal del mapa con la funcion triu \n",
        "sns.heatmap(df2[variables_vuelo].corr(),mask = mask, fmt = \".2f\",annot=True,lw=1,cmap = 'Spectral') # Se grafica el mapa de calor\n",
        "plt.yticks(rotation = 0)\n",
        "plt.xticks(rotation = 90)\n",
        "plt.title('Mapa de correlación') # Se agrega titulo al mapa\n",
        "plt.show() # Se visualiza el mapa"
      ]
    },
    {
      "cell_type": "code",
      "source": [
        "# Visualizacion de la relacion entre Flight Distance y Age a traves del target clase\n",
        "df2_2=df2.loc[:, ['Age','Class','Flight Distance']] # Se seleccionan los campos requeridos del data frame\n",
        "sns.pairplot(df2_2,hue = 'Class', palette = 'Spectral', kind=\"kde\") # Se grafica en pairplot con el target clase para trazar relaciones por pares entre las variables edad y distancia de vuelo"
      ],
      "metadata": {
        "id": "h4f-K3oEsyo9"
      },
      "execution_count": null,
      "outputs": []
    },
    {
      "cell_type": "code",
      "source": [
        "# Visualizacion de la relacion entre Flight Distance y Age a traves del target tipo de cliente\n",
        "sns.FacetGrid(df2, hue = 'Customer Type' , size = 5).map(plt.scatter,'Age','Flight Distance').add_legend(); \n",
        "plt.show() # Se visualiza el mapa"
      ],
      "metadata": {
        "id": "QzSh9SJ-tEbz"
      },
      "execution_count": null,
      "outputs": []
    },
    {
      "cell_type": "markdown",
      "metadata": {
        "id": "GMnYMv5ssRJK"
      },
      "source": [
        "# ***Algoritmos de clasificación***\n",
        "\n",
        "---\n",
        "\n"
      ]
    },
    {
      "cell_type": "code",
      "source": [
        "#Importo las librerías\n",
        "from sklearn import datasets"
      ],
      "metadata": {
        "id": "b_7894wqpmnX"
      },
      "execution_count": null,
      "outputs": []
    },
    {
      "cell_type": "markdown",
      "source": [
        "*KNN*\n",
        "\n",
        "---"
      ],
      "metadata": {
        "id": "XTH5Y7SlpB28"
      }
    },
    {
      "cell_type": "code",
      "source": [
        "#Asigno los valores de X e y utilizando el tipo de cliente y la clase en el vuelo como features y la satisfaccion como target\n",
        "X = df2[variables]\n",
        "y = df2['satisfaction']"
      ],
      "metadata": {
        "id": "8kM5G5uio6x0"
      },
      "execution_count": null,
      "outputs": []
    },
    {
      "cell_type": "code",
      "source": [
        "#Separo el dataset en train y test\n",
        "from sklearn.model_selection import train_test_split\n",
        "X_train, X_test, y_train, y_test = train_test_split(X, y, test_size=0.3, random_state=1) # 70% training y 30% testing"
      ],
      "metadata": {
        "id": "rl-mM2AZpIrz"
      },
      "execution_count": null,
      "outputs": []
    },
    {
      "cell_type": "code",
      "source": [
        "#Importo MinMaxScaler para escalear los conjuntos de entrenamiento\n",
        "from sklearn.preprocessing import MinMaxScaler\n",
        "scaler = MinMaxScaler()\n",
        "\n",
        "X_train = scaler.fit_transform(X_train)\n",
        "X_test = scaler.transform(X_test)"
      ],
      "metadata": {
        "id": "rqSTZVMPpJ9z"
      },
      "execution_count": null,
      "outputs": []
    },
    {
      "cell_type": "code",
      "source": [
        "#Importo la librería para el algoritmo de clasificación\n",
        "from sklearn.neighbors import KNeighborsClassifier\n",
        "\n",
        "#Utilizo la tecnica de tecnica de Grid Search para validar el K óptimo\n",
        "k_range = range(1, 20)\n",
        "scores_train= []\n",
        "scores_test= []\n",
        "for k in k_range:\n",
        "    knn = KNeighborsClassifier(n_neighbors = k,metric = 'minkowski')\n",
        "    knn.fit(X_train, y_train)\n",
        "    scores_train.append(knn.score(X_train, y_train))\n",
        "    scores_test.append(knn.score(X_test, y_test))\n",
        "plt.figure(figsize=(15,8))\n",
        "plt.plot(k_range, scores_train, color='yellowgreen', linestyle='dashed', marker='o',markerfacecolor='yellowgreen', markersize=10)\n",
        "plt.plot(k_range, scores_test, color='powderblue', linestyle='dashed', marker='o',markerfacecolor='powderblue', markersize=10)\n",
        "plt.title('K neighbours vs Accuracy')\n",
        "plt.xlabel('K')\n",
        "plt.ylabel('Accuracy')\n",
        "plt.xticks([0,1,2,3,4,5,6,7,8,9,10,11,12,13,14,15,16,17,18,19,20])"
      ],
      "metadata": {
        "id": "vQ3FJ5zLpPqU"
      },
      "execution_count": null,
      "outputs": []
    },
    {
      "cell_type": "code",
      "source": [
        "#el valor minimo optimo de vecinos es k = 3 que llega a una Accuracy del 89% para la data de Testing\n",
        "n_neighbors = 3\n",
        "\n",
        "#Consideraer que la distancia entre vecinos es con el parametro 'metric'probemos con otras distancia Minkowski \n",
        "knn = KNeighborsClassifier(n_neighbors, metric = 'minkowski')\n",
        "knn.fit(X_train, y_train)\n",
        "\n",
        "print('Accuracy Train: {:.2f}'\n",
        "      .format(knn.score(X_train, y_train)))\n",
        "print('Accuracy Test: {:.2f}'\n",
        "      .format(knn.score(X_test, y_test)))"
      ],
      "metadata": {
        "colab": {
          "base_uri": "https://localhost:8080/"
        },
        "id": "4Hgb024qq27w",
        "outputId": "95eeffaf-9855-4f9a-f0e2-0c541ff2eaf5"
      },
      "execution_count": null,
      "outputs": [
        {
          "output_type": "stream",
          "name": "stdout",
          "text": [
            "Accuracy Train: 0.94\n",
            "Accuracy Test: 0.89\n"
          ]
        }
      ]
    },
    {
      "cell_type": "code",
      "source": [
        "#Creo la variable de predicción en función de la respuesta del test\n",
        "y_train_pred = knn.predict(X_train)\n",
        "y_test_pred = knn.predict(X_test)"
      ],
      "metadata": {
        "id": "NXrRN8DJq96P"
      },
      "execution_count": null,
      "outputs": []
    },
    {
      "cell_type": "code",
      "source": [
        "#Creamos la matriz de confusión para KNN\n",
        "from sklearn.metrics import confusion_matrix\n",
        "matriz = confusion_matrix(y_test, y_test_pred)\n",
        "print('Matriz de Confusión:')\n",
        "print(matriz)"
      ],
      "metadata": {
        "colab": {
          "base_uri": "https://localhost:8080/"
        },
        "id": "Tp4zM_mlriZx",
        "outputId": "7fa9f054-e25b-4883-8efa-e13ae18edb76"
      },
      "execution_count": null,
      "outputs": [
        {
          "output_type": "stream",
          "name": "stdout",
          "text": [
            "Matriz de Confusión:\n",
            "[[4043  360]\n",
            " [ 499 2891]]\n"
          ]
        }
      ]
    },
    {
      "cell_type": "code",
      "source": [
        "from sklearn.metrics import plot_confusion_matrix,accuracy_score\n",
        "plot_confusion_matrix(knn, \n",
        "                      X = X_test, \n",
        "                      y_true = y_test, \n",
        "                      colorbar=True, \n",
        "                      cmap='Spectral')"
      ],
      "metadata": {
        "colab": {
          "base_uri": "https://localhost:8080/",
          "height": 353
        },
        "id": "eHA6nh36kziJ",
        "outputId": "e09260af-ee45-4b4f-e448-5ba57f29793f"
      },
      "execution_count": null,
      "outputs": [
        {
          "output_type": "stream",
          "name": "stderr",
          "text": [
            "/usr/local/lib/python3.7/dist-packages/sklearn/utils/deprecation.py:87: FutureWarning: Function plot_confusion_matrix is deprecated; Function `plot_confusion_matrix` is deprecated in 1.0 and will be removed in 1.2. Use one of the class methods: ConfusionMatrixDisplay.from_predictions or ConfusionMatrixDisplay.from_estimator.\n",
            "  warnings.warn(msg, category=FutureWarning)\n"
          ]
        },
        {
          "output_type": "execute_result",
          "data": {
            "text/plain": [
              "<sklearn.metrics._plot.confusion_matrix.ConfusionMatrixDisplay at 0x7f21dbd4f5d0>"
            ]
          },
          "metadata": {},
          "execution_count": 19
        },
        {
          "output_type": "display_data",
          "data": {
            "text/plain": [
              "<Figure size 432x288 with 2 Axes>"
            ],
            "image/png": "[encoded data removed]"
          },
          "metadata": {
            "needs_background": "light"
          }
        }
      ]
    },
    {
      "cell_type": "markdown",
      "source": [
        "*Arbol de decision*\n",
        "\n",
        "---"
      ],
      "metadata": {
        "id": "o8e7bUxXrJhC"
      }
    },
    {
      "cell_type": "code",
      "source": [
        "#Asigno los valores de X e y utilizando el tipo de cliente y la clase en el vuelo como features y la satisfaccion como target\n",
        "X = df2[variables]\n",
        "y = df2['satisfaction']"
      ],
      "metadata": {
        "id": "gDAnkgsPugk0"
      },
      "execution_count": null,
      "outputs": []
    },
    {
      "cell_type": "code",
      "source": [
        "#Separo el dataset en train y test\n",
        "from sklearn.model_selection import train_test_split\n",
        "X_train, X_test, y_train, y_test = train_test_split(X, y, test_size=0.3, random_state=1) # 70% training y 30% testing"
      ],
      "metadata": {
        "id": "COCns8-nrvUn"
      },
      "execution_count": null,
      "outputs": []
    },
    {
      "cell_type": "code",
      "source": [
        "#Invoco el clasificador para el albol de decision\n",
        "from sklearn.tree import DecisionTreeClassifier\n",
        "classifier = DecisionTreeClassifier()\n",
        "\n",
        "#Entreno el clasificador\n",
        "classifier.fit(X_train, y_train)\n",
        "\n",
        "#Creo la variable de predicción en función de la respuesta del test\n",
        "y_train_pred = classifier.predict(X_train)\n",
        "y_test_pred = classifier.predict(X_test)"
      ],
      "metadata": {
        "id": "3hpNg2MWrJGH"
      },
      "execution_count": null,
      "outputs": []
    },
    {
      "cell_type": "code",
      "source": [
        "#Creamos la matriz de confusión\n",
        "from sklearn.metrics import confusion_matrix\n",
        "matriz = confusion_matrix(y_test, y_test_pred)\n",
        "print('Matriz de Confusión:')\n",
        "print(matriz)"
      ],
      "metadata": {
        "colab": {
          "base_uri": "https://localhost:8080/"
        },
        "id": "MJTMeDUjrYNn",
        "outputId": "21bb0ed2-dcb9-4299-b297-497d5583a56e"
      },
      "execution_count": null,
      "outputs": [
        {
          "output_type": "stream",
          "name": "stdout",
          "text": [
            "Matriz de Confusión:\n",
            "[[4008  395]\n",
            " [ 342 3048]]\n"
          ]
        }
      ]
    },
    {
      "cell_type": "code",
      "source": [
        "from sklearn.metrics import plot_confusion_matrix,accuracy_score\n",
        "plot_confusion_matrix(classifier, \n",
        "                      X = X_test, \n",
        "                      y_true = y_test, \n",
        "                      colorbar=True, \n",
        "                      cmap='Spectral')"
      ],
      "metadata": {
        "colab": {
          "base_uri": "https://localhost:8080/",
          "height": 355
        },
        "id": "5Vnss1Bax_zN",
        "outputId": "761edd20-91ed-4a69-f99b-5c022aa3d3f2"
      },
      "execution_count": null,
      "outputs": [
        {
          "output_type": "stream",
          "name": "stderr",
          "text": [
            "/usr/local/lib/python3.7/dist-packages/sklearn/utils/deprecation.py:87: FutureWarning: Function plot_confusion_matrix is deprecated; Function `plot_confusion_matrix` is deprecated in 1.0 and will be removed in 1.2. Use one of the class methods: ConfusionMatrixDisplay.from_predictions or ConfusionMatrixDisplay.from_estimator.\n",
            "  warnings.warn(msg, category=FutureWarning)\n"
          ]
        },
        {
          "output_type": "execute_result",
          "data": {
            "text/plain": [
              "<sklearn.metrics._plot.confusion_matrix.ConfusionMatrixDisplay at 0x7f21d98861d0>"
            ]
          },
          "metadata": {},
          "execution_count": 24
        },
        {
          "output_type": "display_data",
          "data": {
            "text/plain": [
              "<Figure size 432x288 with 2 Axes>"
            ],
            "image/png": "[encoded data removed]"
          },
          "metadata": {
            "needs_background": "light"
          }
        }
      ]
    },
    {
      "cell_type": "code",
      "source": [
        "# Me fijo el accuracy del modelo\n",
        "from sklearn import metrics\n",
        "Accuracy_Train = metrics.accuracy_score(y_train, y_train_pred)\n",
        "Accuracy_Test = metrics.accuracy_score(y_test, y_test_pred)                               \n",
        "print(\"Accuracy Train:\",Accuracy_Train)\n",
        "print(\"Accuracy Test:\",Accuracy_Test)"
      ],
      "metadata": {
        "colab": {
          "base_uri": "https://localhost:8080/"
        },
        "id": "KKAB8p9ArbQf",
        "outputId": "4d8f43e8-15ac-4503-c9f0-066c61319f41"
      },
      "execution_count": null,
      "outputs": [
        {
          "output_type": "stream",
          "name": "stdout",
          "text": [
            "Accuracy Train: 0.9976901501402409\n",
            "Accuracy Test: 0.9054279481586038\n"
          ]
        }
      ]
    },
    {
      "cell_type": "markdown",
      "source": [
        "*Random Forest*"
      ],
      "metadata": {
        "id": "Z9oNdnltnE8H"
      }
    },
    {
      "cell_type": "code",
      "source": [
        "# Importamos las librerias que vamos a utilizar\n",
        "from sklearn.model_selection import train_test_split\n",
        "from sklearn.tree import DecisionTreeClassifier\n",
        "from sklearn.metrics import confusion_matrix\n",
        "from sklearn.metrics import accuracy_score\n",
        "from sklearn.ensemble import RandomForestClassifier\n",
        "import urllib.request"
      ],
      "metadata": {
        "id": "AJ9ydCwmne-e"
      },
      "execution_count": null,
      "outputs": []
    },
    {
      "cell_type": "code",
      "source": [
        "# Creamos el random forest y lo entrenamos con las variables de entrenamiento\n",
        "model_rd = RandomForestClassifier(random_state=11, n_estimators=200,\n",
        "                               class_weight=\"balanced\", max_features=\"log2\")\n",
        "model_rd.fit(X_train, y_train)\n",
        "\n",
        "# Realizamos una predicción con la variable de test\n",
        "Y_test_pred_rd = model_rd.predict(X_test) \n",
        "\n",
        "#Calculamos la precision del random forest\n",
        "test_accuracy_rd = accuracy_score(y_test, Y_test_pred_rd)\n",
        "\n",
        "print('% de aciertos sobre el set de evaluación:',test_accuracy_rd)\n",
        "print(\"\")\n",
        "print('El random forest es ' + str(test_accuracy_rd-Accuracy_Test) + '% mas preciso que el arbol de decision simple')"
      ],
      "metadata": {
        "colab": {
          "base_uri": "https://localhost:8080/"
        },
        "id": "30DRWtCinG8o",
        "outputId": "0b5ad659-9834-417d-a8df-6365d5c0c7b3"
      },
      "execution_count": null,
      "outputs": [
        {
          "output_type": "stream",
          "name": "stdout",
          "text": [
            "% de aciertos sobre el set de evaluación: 0.9327601693827794\n",
            "\n",
            "El random forest es 0.027332221224175557% mas preciso que el arbol de decision simple\n"
          ]
        }
      ]
    },
    {
      "cell_type": "code",
      "source": [
        "#Grafico la matriz de confusion\n",
        "plot_confusion_matrix(model_rd, \n",
        "                      X = X_test, \n",
        "                      y_true = y_test, \n",
        "                      colorbar=True, \n",
        "                      cmap='Spectral')"
      ],
      "metadata": {
        "colab": {
          "base_uri": "https://localhost:8080/",
          "height": 351
        },
        "id": "iV7DZCXPuvwo",
        "outputId": "90ed3f41-0f5d-4f2c-b8a0-061022dd0316"
      },
      "execution_count": null,
      "outputs": [
        {
          "output_type": "stream",
          "name": "stderr",
          "text": [
            "/usr/local/lib/python3.7/dist-packages/sklearn/utils/deprecation.py:87: FutureWarning: Function plot_confusion_matrix is deprecated; Function `plot_confusion_matrix` is deprecated in 1.0 and will be removed in 1.2. Use one of the class methods: ConfusionMatrixDisplay.from_predictions or ConfusionMatrixDisplay.from_estimator.\n",
            "  warnings.warn(msg, category=FutureWarning)\n"
          ]
        },
        {
          "output_type": "execute_result",
          "data": {
            "text/plain": [
              "<sklearn.metrics._plot.confusion_matrix.ConfusionMatrixDisplay at 0x7f21d9183b10>"
            ]
          },
          "metadata": {},
          "execution_count": 32
        },
        {
          "output_type": "display_data",
          "data": {
            "text/plain": [
              "<Figure size 432x288 with 2 Axes>"
            ],
            "image/png": "[encoded data removed]"
          },
          "metadata": {
            "needs_background": "light"
          }
        }
      ]
    }
  ],
  "metadata": {
    "colab": {
      "name": "Proyecto Final_v2.ipynb",
      "provenance": [],
      "collapsed_sections": []
    },
    "kernelspec": {
      "display_name": "Python 3",
      "name": "python3"
    },
    "language_info": {
      "name": "python"
    }
  },
  "nbformat": 4,
  "nbformat_minor": 0
}